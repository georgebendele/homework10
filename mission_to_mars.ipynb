{
 "cells": [
  {
   "cell_type": "code",
   "execution_count": 1,
   "metadata": {},
   "outputs": [],
   "source": [
    "from splinter import Browser\n",
    "from bs4 import BeautifulSoup\n",
    "import pandas as pd"
   ]
  },
  {
   "cell_type": "code",
   "execution_count": 2,
   "metadata": {},
   "outputs": [
    {
     "name": "stdout",
     "output_type": "stream",
     "text": [
      "/usr/local/bin/chromedriver\r\n"
     ]
    }
   ],
   "source": [
    "# https://splinter.readthedocs.io/en/latest/drivers/chrome.html\n",
    "!which chromedriver"
   ]
  },
  {
   "cell_type": "code",
   "execution_count": 3,
   "metadata": {},
   "outputs": [],
   "source": [
    "executable_path = {'executable_path': '/usr/local/bin/chromedriver'}\n",
    "browser = Browser('chrome', **executable_path, headless=False)"
   ]
  },
  {
   "cell_type": "code",
   "execution_count": 4,
   "metadata": {},
   "outputs": [],
   "source": [
    "url = 'https://mars.nasa.gov/news/'\n",
    "browser.visit(url)"
   ]
  },
  {
   "cell_type": "code",
   "execution_count": 5,
   "metadata": {},
   "outputs": [
    {
     "name": "stdout",
     "output_type": "stream",
     "text": [
      "-------------\n",
      "NASA Social Media and Websites Win Webby Awards \n",
      "-------------\n",
      "NASA's InSight Detects First Likely 'Quake' on Mars\n",
      "-------------\n",
      "Things Are Stacking up for NASA's Mars 2020 Spacecraft\n",
      "-------------\n",
      "Curiosity Tastes First Sample in 'Clay-Bearing Unit'\n",
      "-------------\n",
      "More Testing for Mars InSight's 'Mole'\n",
      "-------------\n",
      "NASA Garners 7 Webby Award Nominations\n",
      "-------------\n",
      "Curiosity Captured Two Solar Eclipses on Mars\n",
      "-------------\n",
      "NASA's Mars Helicopter Completes Flight Tests\n",
      "-------------\n",
      "Asteroids, Hydrogen Make Great Recipe for Life on Mars\n",
      "-------------\n",
      "Catch NASA's JPL at the Clippers SciFest This Weekend\n",
      "-------------\n",
      "NASA's Mars 2020 Rover Is Put to the Test\n",
      "-------------\n",
      "Opportunity's Parting Shot Was a Beautiful Panorama\n",
      "-------------\n",
      "Curiosity Resumes Operations After Switching Computers\n",
      "-------------\n",
      "InSight Lands Praise and a Proclamation from LA County\n",
      "-------------\n",
      "InSight Is the Newest Mars Weather Service\n",
      "-------------\n",
      "Six Things to Know About NASA's Opportunity Rover\n",
      "-------------\n",
      "NASA's Opportunity Rover Mission on Mars Comes to End\n",
      "-------------\n",
      "NASA's InSight Prepares to Take Mars' Temperature\n",
      "-------------\n",
      "NASA to Share Results of Effort to Recover Mars Rover\n",
      "-------------\n",
      "NASA's MAVEN Spacecraft Shrinking its Mars Orbit to Prepare for Mars 2020 Rover\n",
      "-------------\n",
      "360 Video: Curiosity Rover Departs Vera Rubin Ridge\n",
      "-------------\n",
      "Beyond Mars, the Mini MarCO Spacecraft Fall Silent\n",
      "-------------\n",
      "InSight's Seismometer Now Has a Cozy Shelter on Mars\n",
      "-------------\n",
      "\"Mars Buggy\" Curiosity Measures a Mountain's Gravity\n",
      "-------------\n",
      "Curiosity Says Farewell to Mars' Vera Rubin Ridge\n",
      "-------------\n",
      "Rover Team Beaming New Commands to Opportunity on Mars\n",
      "-------------\n",
      "NASA's Opportunity Rover Logs 15 Years on Mars\n",
      "-------------\n",
      "NASA's InSight Places First Instrument on Mars\n",
      "-------------\n",
      "InSight Engineers Have Made a Martian Rock Garden\n",
      "-------------\n",
      "Mars InSight Lander Seen in First Images from Space \n",
      "-------------\n",
      "NASA's InSight Takes Its First Selfie\n",
      "-------------\n",
      "NASA InSight Lander 'Hears' Martian Winds \n",
      "-------------\n",
      "NASA's Mars InSight Flexes Its Arm\n",
      "-------------\n",
      "Mars New Home 'a Large Sandbox'\n",
      "-------------\n",
      "NASA Hears MarCO CubeSats Loud and Clear from Mars \n",
      "-------------\n",
      "InSight Is Catching Rays on Mars\n",
      "-------------\n",
      "NASA InSight Lander Arrives on Martian Surface \n",
      "-------------\n",
      "Landing Day for InSight\n",
      "-------------\n",
      "NASA InSight Landing on Mars: Milestones\n",
      "-------------\n",
      "NASA InSight Team on Course for Mars Touchdown\n",
      "-------------\n",
      "\n",
      "\n",
      "NASA Announces Landing Site for Mars 2020 Rover\n",
      "\n",
      "\n",
      "-------------\n",
      "\n",
      "\n",
      "Opportunity Hunkers Down During Dust Storm\n",
      "\n",
      "\n",
      "-------------\n",
      "\n",
      "\n",
      "NASA Finds Ancient Organic Material, Mysterious Methane on Mars\n",
      "\n",
      "\n",
      "-------------\n",
      "\n",
      "\n",
      "NASA Garners 7 Webby Award Nominations\n",
      "\n",
      "\n",
      "-------------\n",
      "\n",
      "\n",
      "NASA's Opportunity Rover Mission on Mars Comes to End\n",
      "\n",
      "\n",
      "-------------\n",
      "\n",
      "\n",
      "NASA's InSight Places First Instrument on Mars\n",
      "\n",
      "\n",
      "-------------\n",
      "\n",
      "\n",
      "NASA Announces Landing Site for Mars 2020 Rover\n",
      "\n",
      "\n",
      "-------------\n",
      "\n",
      "\n",
      "Opportunity Hunkers Down During Dust Storm\n",
      "\n",
      "\n",
      "-------------\n",
      "\n",
      "\n",
      "NASA Finds Ancient Organic Material, Mysterious Methane on Mars\n",
      "\n",
      "\n",
      "-------------\n",
      "\n",
      "\n",
      "NASA Garners 7 Webby Award Nominations\n",
      "\n",
      "\n",
      "-------------\n",
      "\n",
      "\n",
      "NASA's Opportunity Rover Mission on Mars Comes to End\n",
      "\n",
      "\n",
      "-------------\n",
      "\n",
      "\n",
      "NASA's InSight Places First Instrument on Mars\n",
      "\n",
      "\n"
     ]
    }
   ],
   "source": [
    "for x in range(1):\n",
    "\n",
    "    html = browser.html\n",
    "    soup = BeautifulSoup(html, 'html.parser')\n",
    "\n",
    "    titles = soup.find_all('div', class_='content_title')\n",
    "\n",
    "    for title in titles:\n",
    "        article_title = title.text\n",
    "        print(f'-------------')\n",
    "        print(title.text)\n"
   ]
  },
  {
   "cell_type": "code",
   "execution_count": 6,
   "metadata": {},
   "outputs": [
    {
     "name": "stdout",
     "output_type": "stream",
     "text": [
      "-------------\n",
      "NASA's social media presence, the InSight mission social media accounts, NASA.gov and SolarSystem.NASA.gov will be honored at the 2019 Webby Awards - \"the Oscars of the Internet.\"\n",
      "-------------\n",
      "While their causes are still unknown, one of three shaking events looks a lot like the quakes detected on the Moon by the Apollo missions.\n",
      "-------------\n",
      "As the July 2020 launch date inches closer, the next spacecraft headed to the Red Planet is assembled for more testing.\n",
      "-------------\n",
      "This new region on Mars might reveal more about the role of water on Mount Sharp.\n",
      "-------------\n",
      "After the mission's heat probe began hammering last week, it appears to have hit a rock. The team is analyzing data before they hammer again.\n",
      "-------------\n",
      "Nominees include four JPL projects: the solar system and climate websites, InSight social media, and a 360-degree Earth video. Public voting closes April 18, 2019.\n",
      "-------------\n",
      "Observing the Martian moons Phobos and Deimos crossing in front of the Sun helps scientists better understand their orbits.\n",
      "-------------\n",
      "The first helicopter to fly on Mars had its first flight on Earth.\n",
      "-------------\n",
      "Laser blasts in lab tests suggest asteroid bombardment could have provided key ingredients for life on ancient Mars.\n",
      "-------------\n",
      "Students and families can meet a Mars rover, take a virtual tour through our solar system and explore alien worlds with NASA's Jet Propulsion Laboratory at the Clippers SciFest SoCal.\n",
      "-------------\n",
      "In January, Mars 2020 engineers and technicians took over JPL's cleanroom to put the mission's cruise, entry capsule, descent stage and rover through their paces.\n",
      "-------------\n",
      "NASA declared the record-setting rover's mission complete on Feb. 13, 2019, but the final image from the rover has just been processed.\n",
      "-------------\n",
      "Curiosity experienced a computer reset on its Side-A computer on Wednesday, March 6, 2019 (Sol 2,339), that triggered the rover's safe mode.\n",
      "-------------\n",
      "Several members of the Mars InSight team accepted a proclamation on behalf of the mission from L.A. County Board of Supervisors on Tuesday, Feb. 19.\n",
      "-------------\n",
      "By collecting data around the clock, NASA's lander will provide unique science about the Martian surface.\n",
      "-------------\n",
      "Opportunity's mission is complete. Here are highlights from its time on Mars.\n",
      "-------------\n",
      "NASA's Opportunity Mars rover mission is complete after 15 years on Mars. Opportunity's record-breaking exploration laid the groundwork for future missions to the Red Planet.\n",
      "-------------\n",
      "The lander's second instrument is on the ground. But its ‘mole’ — a burrowing probe — has a long way to go.\n",
      "-------------\n",
      "NASA will discuss the status of its Mars Exploration Rover Opportunity in a media briefing at 11 a.m. PST (2 p.m. EST) Wednesday, Feb. 13, from the Jet Propulsion Laboratory.\n",
      "-------------\n",
      "The MAVEN spacecraft today is starting a campaign to tighten its orbit around Mars to prepare to serve as a data-relay satellite for NASA’s Mars 2020 rover, which launches next year.\n",
      "-------------\n",
      "This panorama from the Mast Camera (Mastcam) on NASA's Curiosity Mars rover was taken on Dec. 19 (Sol 2265). The rover's last drill location on Vera Rubin Ridge is visible, as well as the clay region it will spend the next year exploring.\n",
      "-------------\n",
      "The first CubeSat mission to deep space may have reached their limit, but they could inspire future NASA missions.\n",
      "-------------\n",
      "A domed shield has been set over one of InSight's primary science instruments, protecting it from Mars' wind and temperature changes.\n",
      "-------------\n",
      "Smartphone-like sensors on the NASA rover were used to calculate the density of Mount Sharp, offering new clues to its formation.\n",
      "-------------\n",
      "The Mars rover is moving on and has taken its last selfie on the ridge it's explored for more than a year.\n",
      "-------------\n",
      "Engineers at JPL have begun transmitting a new set of commands to Opportunity in an attempt to compel the Mars rover to contact Earth.\n",
      "-------------\n",
      "The rover landed in a region of the Red Planet called Meridiani Planum 16 years ago today, on Jan. 24, 2004.\n",
      "-------------\n",
      "In deploying its first instrument onto the surface of Mars, the lander completes a major mission milestone.\n",
      "-------------\n",
      "Reconstructing Mars here on Earth lets them practice setting down the lander's science instruments.\n",
      "-------------\n",
      "Look closely, and you can make out the lander's solar panels.\n",
      "-------------\n",
      "Two new image mosaics detail the lander's deck and \"workspace\" — the surface where it will eventually set down its science instruments.\n",
      "-------------\n",
      "Vibrations picked up by two spacecraft instruments have provided the first sounds of Martian wind.\n",
      "-------------\n",
      "Now unstowed, the spacecraft's robotic arm will point a camera located on its elbow and take images of the surroundings.\n",
      "-------------\n",
      "With InSight safely on the surface of Mars, the mission team is busy learning more about the spacecraft's landing site.\n",
      "-------------\n",
      "A pair of tiny, experimental spacecraft fulfilled their mission yesterday, relaying back near-real-time data during InSight's landing.\n",
      "-------------\n",
      "The lander has sent data indicating its solar panels are open and receiving sunlight to power its surface operations.\n",
      "-------------\n",
      "The touchdown marks the eighth time NASA has successfully landed a spacecraft on Mars.\n",
      "-------------\n",
      "NASA's InSight spacecraft is on target for Mars landing at around noon PST today.\n",
      "-------------\n",
      "On Nov. 26, NASA's InSight spacecraft will blaze through the Martian atmosphere and set a lander gently on the surface in less time than it takes to cook a hard-boiled egg.\n",
      "-------------\n",
      "NASA's Mars InSight spacecraft is on track for a soft touchdown on the surface of the Red Planet on Nov. 26.\n"
     ]
    }
   ],
   "source": [
    "for x in range(1):\n",
    "\n",
    "    html = browser.html\n",
    "    soup = BeautifulSoup(html, 'html.parser')\n",
    "\n",
    "    articles = soup.find_all('div', class_='article_teaser_body')\n",
    "\n",
    "    for article in articles:\n",
    "        article_body = article.text\n",
    "        print(f'-------------')\n",
    "        print(article.text)"
   ]
  },
  {
   "cell_type": "code",
   "execution_count": 7,
   "metadata": {},
   "outputs": [],
   "source": [
    "jpl = 'https://www.jpl.nasa.gov/spaceimages/?search=&category=Mars'\n",
    "browser.visit(jpl)\n"
   ]
  },
  {
   "cell_type": "code",
   "execution_count": 8,
   "metadata": {},
   "outputs": [],
   "source": [
    "browser.click_link_by_id('full_image')"
   ]
  },
  {
   "cell_type": "code",
   "execution_count": 9,
   "metadata": {},
   "outputs": [],
   "source": [
    "for x in range(1):\n",
    "\n",
    "    html = browser.html\n",
    "    soup = BeautifulSoup(html, 'html.parser')\n",
    "\n",
    "    image = soup.find('img', class_=\"fancybox-image\")['src']"
   ]
  },
  {
   "cell_type": "code",
   "execution_count": 10,
   "metadata": {},
   "outputs": [
    {
     "data": {
      "text/plain": [
       "'/spaceimages/images/mediumsize/PIA16220_ip.jpg'"
      ]
     },
     "execution_count": 10,
     "metadata": {},
     "output_type": "execute_result"
    }
   ],
   "source": [
    "image"
   ]
  },
  {
   "cell_type": "code",
   "execution_count": 11,
   "metadata": {},
   "outputs": [],
   "source": [
    "featured_image_url = \"https://www.jpl.nasa.gov\" + image"
   ]
  },
  {
   "cell_type": "code",
   "execution_count": 12,
   "metadata": {},
   "outputs": [
    {
     "data": {
      "text/plain": [
       "'https://www.jpl.nasa.gov/spaceimages/images/mediumsize/PIA16220_ip.jpg'"
      ]
     },
     "execution_count": 12,
     "metadata": {},
     "output_type": "execute_result"
    }
   ],
   "source": [
    "featured_image_url"
   ]
  },
  {
   "cell_type": "code",
   "execution_count": 13,
   "metadata": {},
   "outputs": [],
   "source": [
    "marsweather = 'https://twitter.com/marswxreport?lang=en'\n",
    "browser.visit(marsweather)"
   ]
  },
  {
   "cell_type": "code",
   "execution_count": 14,
   "metadata": {},
   "outputs": [],
   "source": [
    "for x in range(1):\n",
    "\n",
    "    html = browser.html\n",
    "    soup = BeautifulSoup(html, 'html.parser')\n",
    "\n",
    "    content = soup.find_all('p', class_='TweetTextSize TweetTextSize--normal js-tweet-text tweet-text')\n"
   ]
  },
  {
   "cell_type": "code",
   "execution_count": 15,
   "metadata": {},
   "outputs": [],
   "source": [
    "marsFacts = 'https://space-facts.com/mars/'\n",
    "browser.visit(marsFacts)"
   ]
  },
  {
   "cell_type": "code",
   "execution_count": 27,
   "metadata": {},
   "outputs": [],
   "source": [
    "tables = pd.read_html(marsFacts)"
   ]
  },
  {
   "cell_type": "code",
   "execution_count": 26,
   "metadata": {},
   "outputs": [
    {
     "data": {
      "text/html": [
       "<div>\n",
       "<style scoped>\n",
       "    .dataframe tbody tr th:only-of-type {\n",
       "        vertical-align: middle;\n",
       "    }\n",
       "\n",
       "    .dataframe tbody tr th {\n",
       "        vertical-align: top;\n",
       "    }\n",
       "\n",
       "    .dataframe thead th {\n",
       "        text-align: right;\n",
       "    }\n",
       "</style>\n",
       "<table border=\"1\" class=\"dataframe\">\n",
       "  <thead>\n",
       "    <tr style=\"text-align: right;\">\n",
       "      <th></th>\n",
       "      <th>Fact</th>\n",
       "      <th>Data</th>\n",
       "    </tr>\n",
       "  </thead>\n",
       "  <tbody>\n",
       "    <tr>\n",
       "      <th>0</th>\n",
       "      <td>Equatorial Diameter:</td>\n",
       "      <td>6,792 km</td>\n",
       "    </tr>\n",
       "    <tr>\n",
       "      <th>1</th>\n",
       "      <td>Polar Diameter:</td>\n",
       "      <td>6,752 km</td>\n",
       "    </tr>\n",
       "    <tr>\n",
       "      <th>2</th>\n",
       "      <td>Mass:</td>\n",
       "      <td>6.42 x 10^23 kg (10.7% Earth)</td>\n",
       "    </tr>\n",
       "    <tr>\n",
       "      <th>3</th>\n",
       "      <td>Moons:</td>\n",
       "      <td>2 (Phobos &amp; Deimos)</td>\n",
       "    </tr>\n",
       "    <tr>\n",
       "      <th>4</th>\n",
       "      <td>Orbit Distance:</td>\n",
       "      <td>227,943,824 km (1.52 AU)</td>\n",
       "    </tr>\n",
       "  </tbody>\n",
       "</table>\n",
       "</div>"
      ],
      "text/plain": [
       "                   Fact                           Data\n",
       "0  Equatorial Diameter:                       6,792 km\n",
       "1       Polar Diameter:                       6,752 km\n",
       "2                 Mass:  6.42 x 10^23 kg (10.7% Earth)\n",
       "3                Moons:            2 (Phobos & Deimos)\n",
       "4       Orbit Distance:       227,943,824 km (1.52 AU)"
      ]
     },
     "execution_count": 26,
     "metadata": {},
     "output_type": "execute_result"
    }
   ],
   "source": [
    "df = tables[0]\n",
    "df.columns = ['Fact', 'Data']\n",
    "df.head()"
   ]
  },
  {
   "cell_type": "code",
   "execution_count": 29,
   "metadata": {},
   "outputs": [
    {
     "data": {
      "text/plain": [
       "'<table border=\"1\" class=\"dataframe\">\\n  <thead>\\n    <tr style=\"text-align: right;\">\\n      <th></th>\\n      <th>Fact</th>\\n      <th>Data</th>\\n    </tr>\\n  </thead>\\n  <tbody>\\n    <tr>\\n      <th>0</th>\\n      <td>Equatorial Diameter:</td>\\n      <td>6,792 km</td>\\n    </tr>\\n    <tr>\\n      <th>1</th>\\n      <td>Polar Diameter:</td>\\n      <td>6,752 km</td>\\n    </tr>\\n    <tr>\\n      <th>2</th>\\n      <td>Mass:</td>\\n      <td>6.42 x 10^23 kg (10.7% Earth)</td>\\n    </tr>\\n    <tr>\\n      <th>3</th>\\n      <td>Moons:</td>\\n      <td>2 (Phobos &amp; Deimos)</td>\\n    </tr>\\n    <tr>\\n      <th>4</th>\\n      <td>Orbit Distance:</td>\\n      <td>227,943,824 km (1.52 AU)</td>\\n    </tr>\\n    <tr>\\n      <th>5</th>\\n      <td>Orbit Period:</td>\\n      <td>687 days (1.9 years)</td>\\n    </tr>\\n    <tr>\\n      <th>6</th>\\n      <td>Surface Temperature:</td>\\n      <td>-153 to 20 °C</td>\\n    </tr>\\n    <tr>\\n      <th>7</th>\\n      <td>First Record:</td>\\n      <td>2nd millennium BC</td>\\n    </tr>\\n    <tr>\\n      <th>8</th>\\n      <td>Recorded By:</td>\\n      <td>Egyptian astronomers</td>\\n    </tr>\\n  </tbody>\\n</table>'"
      ]
     },
     "execution_count": 29,
     "metadata": {},
     "output_type": "execute_result"
    }
   ],
   "source": [
    "html_table = df.to_html()\n",
    "html_table"
   ]
  },
  {
   "cell_type": "code",
   "execution_count": 31,
   "metadata": {},
   "outputs": [],
   "source": [
    "html_table = html_table.replace('\\n', '')"
   ]
  },
  {
   "cell_type": "code",
   "execution_count": 32,
   "metadata": {},
   "outputs": [
    {
     "data": {
      "text/plain": [
       "'<table border=\"1\" class=\"dataframe\">  <thead>    <tr style=\"text-align: right;\">      <th></th>      <th>Fact</th>      <th>Data</th>    </tr>  </thead>  <tbody>    <tr>      <th>0</th>      <td>Equatorial Diameter:</td>      <td>6,792 km</td>    </tr>    <tr>      <th>1</th>      <td>Polar Diameter:</td>      <td>6,752 km</td>    </tr>    <tr>      <th>2</th>      <td>Mass:</td>      <td>6.42 x 10^23 kg (10.7% Earth)</td>    </tr>    <tr>      <th>3</th>      <td>Moons:</td>      <td>2 (Phobos &amp; Deimos)</td>    </tr>    <tr>      <th>4</th>      <td>Orbit Distance:</td>      <td>227,943,824 km (1.52 AU)</td>    </tr>    <tr>      <th>5</th>      <td>Orbit Period:</td>      <td>687 days (1.9 years)</td>    </tr>    <tr>      <th>6</th>      <td>Surface Temperature:</td>      <td>-153 to 20 °C</td>    </tr>    <tr>      <th>7</th>      <td>First Record:</td>      <td>2nd millennium BC</td>    </tr>    <tr>      <th>8</th>      <td>Recorded By:</td>      <td>Egyptian astronomers</td>    </tr>  </tbody></table>'"
      ]
     },
     "execution_count": 32,
     "metadata": {},
     "output_type": "execute_result"
    }
   ],
   "source": [
    "html_table"
   ]
  },
  {
   "cell_type": "code",
   "execution_count": 32,
   "metadata": {},
   "outputs": [],
   "source": [
    "marsHemispheres = 'https://astrogeology.usgs.gov/search/results?q=hemisphere+enhanced&k1=target&v1=Mars'\n",
    "browser.visit(marsHemispheres)"
   ]
  },
  {
   "cell_type": "code",
   "execution_count": 33,
   "metadata": {},
   "outputs": [],
   "source": [
    "browser.click_link_by_partial_text('Cerberus')"
   ]
  },
  {
   "cell_type": "code",
   "execution_count": 35,
   "metadata": {},
   "outputs": [],
   "source": [
    "for x in range(1):\n",
    "\n",
    "    html = browser.html\n",
    "    soup = BeautifulSoup(html, 'html.parser')\n",
    "\n",
    "    cerberus_enhanced = \"https://astrogeology.usgs.gov/\" + soup.find('img', class_=\"wide-image\")['src']\n",
    "    cerberus_title = soup.find('h2', class_=\"title\").text"
   ]
  },
  {
   "cell_type": "code",
   "execution_count": 36,
   "metadata": {},
   "outputs": [
    {
     "data": {
      "text/plain": [
       "'https://astrogeology.usgs.gov//cache/images/cfa62af2557222a02478f1fcd781d445_cerberus_enhanced.tif_full.jpg'"
      ]
     },
     "execution_count": 36,
     "metadata": {},
     "output_type": "execute_result"
    }
   ],
   "source": [
    "cerberus_enhanced"
   ]
  },
  {
   "cell_type": "code",
   "execution_count": 37,
   "metadata": {},
   "outputs": [
    {
     "data": {
      "text/plain": [
       "'Cerberus Hemisphere Enhanced'"
      ]
     },
     "execution_count": 37,
     "metadata": {},
     "output_type": "execute_result"
    }
   ],
   "source": [
    "cerberus_title"
   ]
  },
  {
   "cell_type": "code",
   "execution_count": 38,
   "metadata": {},
   "outputs": [],
   "source": [
    "browser.click_link_by_partial_text('Enhanced')"
   ]
  },
  {
   "cell_type": "code",
   "execution_count": 39,
   "metadata": {},
   "outputs": [],
   "source": [
    "for x in range(1):\n",
    "\n",
    "    html = browser.html\n",
    "    soup = BeautifulSoup(html, 'html.parser')\n",
    "\n",
    "    valles_marineris_enhanced = \"https://astrogeology.usgs.gov/\" + soup.find('img', class_=\"wide-image\")['src']\n",
    "    valles_marineris_title = soup.find('h2', class_=\"title\").text"
   ]
  },
  {
   "cell_type": "code",
   "execution_count": 40,
   "metadata": {},
   "outputs": [
    {
     "data": {
      "text/plain": [
       "'https://astrogeology.usgs.gov//cache/images/7cf2da4bf549ed01c17f206327be4db7_valles_marineris_enhanced.tif_full.jpg'"
      ]
     },
     "execution_count": 40,
     "metadata": {},
     "output_type": "execute_result"
    }
   ],
   "source": [
    "valles_marineris_enhanced"
   ]
  },
  {
   "cell_type": "code",
   "execution_count": 41,
   "metadata": {},
   "outputs": [],
   "source": [
    "browser.click_link_by_partial_text('Enhanced')"
   ]
  },
  {
   "cell_type": "code",
   "execution_count": 42,
   "metadata": {},
   "outputs": [],
   "source": [
    "for x in range(1):\n",
    "\n",
    "    html = browser.html\n",
    "    soup = BeautifulSoup(html, 'html.parser')\n",
    "\n",
    "    syrtis_major_enhanced = \"https://astrogeology.usgs.gov/\" + soup.find('img', class_=\"wide-image\")['src']\n",
    "    syrtis_major_title = soup.find('h2', class_=\"title\").text"
   ]
  },
  {
   "cell_type": "code",
   "execution_count": 43,
   "metadata": {},
   "outputs": [
    {
     "data": {
      "text/plain": [
       "'https://astrogeology.usgs.gov//cache/images/ae209b4e408bb6c3e67b6af38168cf28_syrtis_major_enhanced.tif_full.jpg'"
      ]
     },
     "execution_count": 43,
     "metadata": {},
     "output_type": "execute_result"
    }
   ],
   "source": [
    "syrtis_major_enhanced"
   ]
  },
  {
   "cell_type": "code",
   "execution_count": 44,
   "metadata": {},
   "outputs": [],
   "source": [
    "browser.click_link_by_partial_text('Schiaparelli Hemisphere Enhanced')"
   ]
  },
  {
   "cell_type": "code",
   "execution_count": 45,
   "metadata": {},
   "outputs": [],
   "source": [
    "for x in range(1):\n",
    "\n",
    "    html = browser.html\n",
    "    soup = BeautifulSoup(html, 'html.parser')\n",
    "\n",
    "    schiaparelli_enhanced = \"https://astrogeology.usgs.gov/\" + soup.find('img', class_=\"wide-image\")['src']\n",
    "    schiaparelli_title = soup.find('h2', class_=\"title\").text"
   ]
  },
  {
   "cell_type": "code",
   "execution_count": 46,
   "metadata": {},
   "outputs": [
    {
     "data": {
      "text/plain": [
       "'https://astrogeology.usgs.gov//cache/images/3cdd1cbf5e0813bba925c9030d13b62e_schiaparelli_enhanced.tif_full.jpg'"
      ]
     },
     "execution_count": 46,
     "metadata": {},
     "output_type": "execute_result"
    }
   ],
   "source": [
    "schiaparelli_enhanced"
   ]
  },
  {
   "cell_type": "code",
   "execution_count": 47,
   "metadata": {},
   "outputs": [],
   "source": [
    "schiaparelli_dict = {\n",
    "    \"title\" : schiaparelli_title,\n",
    "    \"img_url\" : schiaparelli_enhanced\n",
    "}\n",
    "\n",
    "syrtis_major_dict = {\n",
    "    \"title\" : syrtis_major_title,\n",
    "    \"img_url\" : syrtis_major_enhanced\n",
    "}\n",
    "\n",
    "valles_marineris_dict = {\n",
    "    \"title\" : valles_marineris_title,\n",
    "    \"img_url\" : valles_marineris_enhanced\n",
    "}\n",
    "\n",
    "cerberus_dict = {\n",
    "    \"title\" : cerberus_title,\n",
    "    \"img_url\" : cerberus_enhanced\n",
    "}"
   ]
  },
  {
   "cell_type": "code",
   "execution_count": 51,
   "metadata": {},
   "outputs": [],
   "source": [
    "mars_hemi_data = []"
   ]
  },
  {
   "cell_type": "code",
   "execution_count": 52,
   "metadata": {},
   "outputs": [],
   "source": [
    "mars_hemi_data.append(cerberus_dict)"
   ]
  },
  {
   "cell_type": "code",
   "execution_count": 53,
   "metadata": {},
   "outputs": [],
   "source": [
    "mars_hemi_data.append(valles_marineris_dict)"
   ]
  },
  {
   "cell_type": "code",
   "execution_count": 54,
   "metadata": {},
   "outputs": [],
   "source": [
    "mars_hemi_data.append(syrtis_major_dict)"
   ]
  },
  {
   "cell_type": "code",
   "execution_count": 55,
   "metadata": {},
   "outputs": [],
   "source": [
    "mars_hemi_data.append(schiaparelli_dict)"
   ]
  },
  {
   "cell_type": "code",
   "execution_count": 56,
   "metadata": {},
   "outputs": [
    {
     "data": {
      "text/plain": [
       "[{'title': 'Cerberus Hemisphere Enhanced',\n",
       "  'img_url': 'https://astrogeology.usgs.gov//cache/images/cfa62af2557222a02478f1fcd781d445_cerberus_enhanced.tif_full.jpg'},\n",
       " {'title': 'Valles Marineris Hemisphere Enhanced',\n",
       "  'img_url': 'https://astrogeology.usgs.gov//cache/images/7cf2da4bf549ed01c17f206327be4db7_valles_marineris_enhanced.tif_full.jpg'},\n",
       " {'title': 'Syrtis Major Hemisphere Enhanced',\n",
       "  'img_url': 'https://astrogeology.usgs.gov//cache/images/ae209b4e408bb6c3e67b6af38168cf28_syrtis_major_enhanced.tif_full.jpg'},\n",
       " {'title': 'Schiaparelli Hemisphere Enhanced',\n",
       "  'img_url': 'https://astrogeology.usgs.gov//cache/images/3cdd1cbf5e0813bba925c9030d13b62e_schiaparelli_enhanced.tif_full.jpg'}]"
      ]
     },
     "execution_count": 56,
     "metadata": {},
     "output_type": "execute_result"
    }
   ],
   "source": [
    "mars_hemi_data"
   ]
  },
  {
   "cell_type": "code",
   "execution_count": null,
   "metadata": {},
   "outputs": [],
   "source": []
  }
 ],
 "metadata": {
  "kernelspec": {
   "display_name": "Python 3",
   "language": "python",
   "name": "python3"
  },
  "language_info": {
   "codemirror_mode": {
    "name": "ipython",
    "version": 3
   },
   "file_extension": ".py",
   "mimetype": "text/x-python",
   "name": "python",
   "nbconvert_exporter": "python",
   "pygments_lexer": "ipython3",
   "version": "3.7.2"
  }
 },
 "nbformat": 4,
 "nbformat_minor": 2
}
